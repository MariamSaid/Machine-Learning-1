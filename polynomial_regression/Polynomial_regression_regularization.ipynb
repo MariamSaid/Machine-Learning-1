{
  "nbformat": 4,
  "nbformat_minor": 0,
  "metadata": {
    "kernelspec": {
      "display_name": "Python 3",
      "language": "python",
      "name": "python3"
    },
    "language_info": {
      "codemirror_mode": {
        "name": "ipython",
        "version": 3
      },
      "file_extension": ".py",
      "mimetype": "text/x-python",
      "name": "python",
      "nbconvert_exporter": "python",
      "pygments_lexer": "ipython3",
      "version": "3.7.6"
    },
    "colab": {
      "name": "Copy of Polynomial_regression_regularization.ipynb",
      "provenance": [],
      "collapsed_sections": []
    }
  },
  "cells": [
    {
      "cell_type": "markdown",
      "metadata": {
        "id": "eyjewtSBMA95"
      },
      "source": [
        "# Testing and regularization"
      ]
    },
    {
      "cell_type": "code",
      "metadata": {
        "id": "y_RXtj1eMCb3",
        "outputId": "bd1dd857-8df8-4b14-df6f-0cad84e3fc4b",
        "colab": {
          "base_uri": "https://localhost:8080/"
        }
      },
      "source": [
        "!git clone https://github.com/s7s/machine_learning_1.git\n",
        "%cd  machine_learning_1/polynomial_regression"
      ],
      "execution_count": 1,
      "outputs": [
        {
          "output_type": "stream",
          "text": [
            "Cloning into 'machine_learning_1'...\n",
            "remote: Enumerating objects: 109, done.\u001b[K\n",
            "remote: Counting objects: 100% (109/109), done.\u001b[K\n",
            "remote: Compressing objects: 100% (79/79), done.\u001b[K\n",
            "remote: Total 109 (delta 42), reused 94 (delta 27), pack-reused 0\u001b[K\n",
            "Receiving objects: 100% (109/109), 33.19 MiB | 22.13 MiB/s, done.\n",
            "Resolving deltas: 100% (42/42), done.\n",
            "/content/machine_learning_1/polynomial_regression\n"
          ],
          "name": "stdout"
        }
      ]
    },
    {
      "cell_type": "code",
      "metadata": {
        "id": "YpX56PtFMA-A"
      },
      "source": [
        "import pandas as pd\n",
        "import numpy as np\n",
        "import random\n",
        "import matplotlib.pyplot as plt\n",
        "random.seed(0)"
      ],
      "execution_count": 2,
      "outputs": []
    },
    {
      "cell_type": "markdown",
      "metadata": {
        "id": "WBD0ZY2wMA-B"
      },
      "source": [
        "## Defining our dataset"
      ]
    },
    {
      "cell_type": "code",
      "metadata": {
        "id": "4sDgbZNRMA-C",
        "outputId": "bd761a28-9d48-4334-f5d7-da07bf6d48d1",
        "colab": {
          "base_uri": "https://localhost:8080/",
          "height": 269
        }
      },
      "source": [
        "# Our original polynomial is -x^2+x+15\n",
        "coefs = [15,1,-1]\n",
        "\n",
        "# def polynomial(coefs, x):\n",
        "#     n = len(coefs)\n",
        "#     return sum([coefs[i]*x**i for i in range(n)])\n",
        "\n",
        "def draw_polynomial(coefs):\n",
        "    n = len(coefs)\n",
        "    x = np.linspace(-5, 5, 1000)\n",
        "    plt.ylim(-20,20)\n",
        "    plt.plot(x, sum([coefs[i]*x**i for i in range(n)]), linestyle='-', color='black')\n",
        "\n",
        "draw_polynomial(coefs)"
      ],
      "execution_count": 4,
      "outputs": [
        {
          "output_type": "display_data",
          "data": {
            "image/png": "[encoded data removed]",
            "text/plain": [
              "<Figure size 432x288 with 1 Axes>"
            ]
          },
          "metadata": {
            "tags": [],
            "needs_background": "light"
          }
        }
      ]
    },
    {
      "cell_type": "code",
      "metadata": {
        "id": "WvGqHRFCMA-E"
      },
      "source": [
        "X = []\n",
        "Y = []\n",
        "for i in range(40):\n",
        "    x = random.uniform(-5,5)\n",
        "    y = polynomial(coefs, x) + random.gauss(0,2)\n",
        "    X.append(x)\n",
        "    Y.append(y)\n",
        "X=np.array(X)\n",
        "Y=np.array(Y)"
      ],
      "execution_count": 5,
      "outputs": []
    },
    {
      "cell_type": "code",
      "metadata": {
        "id": "ETQxgGiFMA-E",
        "outputId": "0b149465-4b76-4da4-fb82-61c15658d646",
        "colab": {
          "base_uri": "https://localhost:8080/",
          "height": 282
        }
      },
      "source": [
        "plt.scatter(X, Y)\n",
        "#draw_polynomial(coefs)"
      ],
      "execution_count": 6,
      "outputs": [
        {
          "output_type": "execute_result",
          "data": {
            "text/plain": [
              "<matplotlib.collections.PathCollection at 0x7f7a91f9bf10>"
            ]
          },
          "metadata": {
            "tags": []
          },
          "execution_count": 6
        },
        {
          "output_type": "display_data",
          "data": {
            "image/png": "[encoded data removed]",
            "text/plain": [
              "<Figure size 432x288 with 1 Axes>"
            ]
          },
          "metadata": {
            "tags": [],
            "needs_background": "light"
          }
        }
      ]
    },
    {
      "cell_type": "markdown",
      "metadata": {
        "id": "wLUfmV9iMA-F"
      },
      "source": [
        "## Training a polynomial regression model"
      ]
    },
    {
      "cell_type": "code",
      "metadata": {
        "id": "xsNmJ6hoGPjb",
        "outputId": "df48e25d-5417-4d5f-8dce-667121170815",
        "colab": {
          "base_uri": "https://localhost:8080/"
        }
      },
      "source": [
        "for datasample in zip(X,Y):\n",
        "    print(datasample)"
      ],
      "execution_count": 7,
      "outputs": [
        {
          "output_type": "stream",
          "text": [
            "(3.4442185152504816, 6.685961311021467)\n",
            "(-2.4108324970703663, 4.690236225597948)\n",
            "(0.11274721368608542, 12.205789026637378)\n",
            "(-1.9668727392107255, 11.133217991032268)\n",
            "(-0.23403045847644144, 10.927272159051856)\n",
            "(0.046868558173902564, 12.8584762866286)\n",
            "(-2.1816215560029617, 8.16012255928749)\n",
            "(-2.4949365863755943, 3.5061587527226514)\n",
            "(4.097462559682402, 5.933186396721837)\n",
            "(4.021659504395828, 2.454299054753137)\n",
            "(-1.8985243068066735, 8.956020414039855)\n",
            "(1.8398393191544127, 9.208004401915796)\n",
            "(-0.2785728454728664, 16.36505651355184)\n",
            "(1.1088697344380165, 16.14144978027318)\n",
            "(4.130110532378982, 4.299534274468492)\n",
            "(3.6530992777164, 4.83366913200435)\n",
            "(-2.395076896080406, 7.723543125251446)\n",
            "(-4.8595829983598104, -15.848718674227753)\n",
            "(2.1970468640395415, 9.366124268570305)\n",
            "(1.6815320123185087, 16.070558182542374)\n",
            "(-4.988571806855717, -18.893035332565795)\n",
            "(-2.5608912311286804, 6.043189895391749)\n",
            "(-1.7479563725260991, 11.091071520573042)\n",
            "(0.6751074062067186, 14.272553413210698)\n",
            "(-2.6138407138477984, 9.085321805751548)\n",
            "(-0.5203042856442961, 13.47860807272069)\n",
            "(-4.195541814474646, -7.812998091307244)\n",
            "(4.3283382422690675, 2.748647759010411)\n",
            "(-3.909421540688963, -7.163796336350065)\n",
            "(0.4744091132842376, 14.257854146830486)\n",
            "(3.14466863291336, 3.2664703661537313)\n",
            "(1.0318562796138302, 13.67662422703284)\n",
            "(0.8761706417543635, 12.57404063707232)\n",
            "(-1.1509885402733957, 13.436894195835206)\n",
            "(0.7565101416488851, 14.859288476607356)\n",
            "(-3.132704717444449, 3.3081236367340967)\n",
            "(1.1277317986860673, 13.596584816754236)\n",
            "(-4.1017563880440635, -7.821475002235993)\n",
            "(2.576039219664368, 14.181083579723474)\n",
            "(3.424602231401824, 3.5269925176080537)\n"
          ],
          "name": "stdout"
        }
      ]
    },
    {
      "cell_type": "markdown",
      "metadata": {
        "id": "Pze2ZphQMA-G"
      },
      "source": [
        "### Adding columns to our dataset corresponding to $x^2, x^3, \\ldots, x^{200}$"
      ]
    },
    {
      "cell_type": "code",
      "metadata": {
        "id": "c2XZgASOGfVv"
      },
      "source": [
        "from sklearn.preprocessing import PolynomialFeatures\n",
        "def addPoly(X,polyDegree):\n",
        "    ## TODO ##\n",
        "    po = PolynomialFeatures(polyDegree,include_bias=False)\n",
        "    X = po.fit_transform(X.reshape(-1, 1))\n",
        "    return X\n",
        "X_poly=addPoly(X,200)"
      ],
      "execution_count": 20,
      "outputs": []
    },
    {
      "cell_type": "code",
      "metadata": {
        "id": "kKXdyM7fGzLC",
        "outputId": "27d40141-5b48-4254-92f5-963916e0c244",
        "colab": {
          "base_uri": "https://localhost:8080/"
        }
      },
      "source": [
        "print(X_poly.shape)\n",
        "print(X_poly[0,:])"
      ],
      "execution_count": 26,
      "outputs": [
        {
          "output_type": "stream",
          "text": [
            "(40, 200)\n",
            "[3.44421852e+000 1.18626412e+001 4.08575284e+001 1.40722256e+002\n",
            " 4.84678199e+002 1.66933763e+003 5.74956356e+003 1.98027533e+004\n",
            " 6.82050095e+004 2.34912956e+005 8.09091554e+005 2.78668811e+006\n",
            " 9.59796279e+006 3.30574811e+007 1.13857189e+008 3.92149037e+008\n",
            " 1.35064697e+009 4.65192332e+009 1.60222404e+010 5.51840971e+010\n",
            " 1.90066089e+011 6.54629143e+011 2.25468581e+012 7.76563063e+012\n",
            " 2.67465288e+013 9.21208897e+013 3.17284474e+014 1.09279706e+015\n",
            " 3.76383187e+015 1.29634594e+016 4.46489869e+016 1.53780867e+017\n",
            " 5.29654911e+017 1.82424725e+018 6.28310616e+018 2.16403906e+019\n",
            " 7.45342338e+019 2.56712188e+020 8.84172871e+020 3.04528457e+021\n",
            " 1.04886255e+022 3.61251182e+022 1.24422801e+023 4.28539315e+023\n",
            " 1.47598304e+024 5.08360812e+024 1.75090572e+025 6.03050191e+025\n",
            " 2.07703663e+026 7.15376803e+026 2.46391403e+027 8.48625832e+027\n",
            " 2.92285280e+028 1.00669437e+029 3.46727540e+029 1.19420541e+030\n",
            " 4.11310440e+030 1.41664303e+031 4.87922816e+031 1.68051280e+032\n",
            " 5.78805329e+032 1.99353203e+033 6.86615993e+033 2.36485552e+034\n",
            " 8.14507916e+034 2.80534324e+035 9.66221514e+035 3.32787803e+036\n",
            " 1.14619391e+037 3.94774230e+037 1.35968871e+038 4.68306503e+038\n",
            " 1.61294993e+039 5.55535201e+039 1.91338463e+040 6.59011475e+040\n",
            " 2.26977953e+041 7.81761667e+041 2.69255801e+042 9.27375814e+042\n",
            " 3.19408495e+043 1.10011265e+044 3.78902837e+044 1.30502417e+045\n",
            " 4.49478839e+045 1.54810334e+046 5.33200619e+046 1.83645944e+047\n",
            " 6.32516762e+047 2.17852594e+048 7.50331939e+048 2.58430716e+049\n",
            " 8.90091855e+049 3.06567085e+050 1.05588403e+051 3.63669533e+051\n",
            " 1.25255734e+052 4.31408117e+052 1.48586383e+053 5.11763970e+053\n",
            " 1.76262694e+054 6.07087234e+054 2.09094109e+055 7.20165803e+055\n",
            " 2.48040839e+056 8.54306851e+056 2.94241947e+057 1.01343356e+058\n",
            " 3.49048664e+058 1.20219987e+059 4.14063906e+059 1.42612657e+060\n",
            " 4.91189154e+060 1.69176278e+061 5.82680069e+061 2.00687748e+062\n",
            " 6.91212458e+062 2.38068674e+063 8.19960536e+063 2.82412326e+064\n",
            " 9.72689763e+064 3.35015609e+065 1.15386696e+066 3.97416996e+066\n",
            " 1.36879098e+067 4.71441522e+067 1.62374762e+068 5.59254162e+068\n",
            " 1.92619354e+069 6.63423145e+069 2.28497428e+070 7.86995072e+070\n",
            " 2.71058300e+071 9.33584015e+071 3.21546735e+072 1.10747722e+073\n",
            " 3.81439354e+073 1.31376049e+074 4.52487819e+074 1.55846692e+075\n",
            " 5.36770063e+075 1.84875339e+076 6.36751066e+076 2.19310981e+077\n",
            " 7.55354941e+077 2.60160747e+078 8.96050463e+078 3.08619360e+079\n",
            " 1.06295251e+080 3.66104073e+080 1.26094243e+081 4.34296125e+081\n",
            " 1.49581075e+082 5.15189909e+082 1.77442662e+083 6.11151303e+083\n",
            " 2.10493864e+084 7.24986862e+084 2.49701317e+085 8.60025901e+085\n",
            " 2.96211713e+086 1.02021787e+087 3.51385326e+087 1.21024785e+088\n",
            " 4.16835804e+088 1.43567360e+089 4.94477358e+089 1.70308807e+090\n",
            " 5.86580747e+090 2.02031227e+091 6.95839692e+091 2.39662395e+092\n",
            " 8.25449659e+092 2.84302900e+093 9.79201312e+093 3.37258329e+094\n",
            " 1.16159138e+095 4.00077454e+095 1.37795417e+096 4.74597528e+096\n",
            " 1.63461759e+097 5.62998018e+097 1.93908820e+098 6.67864348e+098\n",
            " 2.30027075e+099 7.92263511e+099 2.72872865e+100 9.39833775e+100\n",
            " 3.23699289e+101 1.11489108e+102 3.83992852e+102 1.32255529e+103\n",
            " 4.55516942e+103 1.56889988e+104 5.40363403e+104 1.86112964e+105\n",
            " 6.41013716e+105 2.20779131e+106 7.60411570e+106 2.61902361e+107]\n"
          ],
          "name": "stdout"
        }
      ]
    },
    {
      "cell_type": "markdown",
      "metadata": {
        "id": "S8uYLISVMA-H"
      },
      "source": [
        "## Splitting data into training and testing"
      ]
    },
    {
      "cell_type": "code",
      "metadata": {
        "id": "fVnfiOyqMNLg",
        "outputId": "68589d8e-f224-4d35-a792-4de5ae7d6848",
        "colab": {
          "base_uri": "https://localhost:8080/"
        }
      },
      "source": [
        "from sklearn.model_selection import train_test_split\n",
        "## TODO ##\n",
        "# use sklearn (train_test_split) to split data to 80% training 20% testing\n",
        "X_train, X_test, y_train, y_test =  train_test_split(X_poly, Y, test_size=.2)"
      ],
      "execution_count": 30,
      "outputs": [
        {
          "output_type": "stream",
          "text": [
            "(32, 200)\n",
            "(8, 200)\n",
            "(32,)\n",
            "(8,)\n"
          ],
          "name": "stdout"
        }
      ]
    },
    {
      "cell_type": "code",
      "metadata": {
        "id": "ZMx7z0rg61V_",
        "outputId": "591a6262-8fb7-41e4-fe64-3240be00838c",
        "colab": {
          "base_uri": "https://localhost:8080/"
        }
      },
      "source": [
        "print(X_train.shape)\n",
        "print(X_test.shape)\n",
        "print(y_train.shape)\n",
        "print(y_test.shape)"
      ],
      "execution_count": 31,
      "outputs": [
        {
          "output_type": "stream",
          "text": [
            "(32, 200)\n",
            "(8, 200)\n",
            "(32,)\n",
            "(8,)\n"
          ],
          "name": "stdout"
        }
      ]
    },
    {
      "cell_type": "code",
      "metadata": {
        "id": "WmHYknzXMA-I"
      },
      "source": [
        "from sklearn.metrics import mean_squared_error\n",
        "def display_results(model):\n",
        "    coefs = [model.intercept_]\n",
        "    coefs += list(model.coef_)\n",
        "    ytrain_predict=model.predict(X_train)\n",
        "    ytest_predict=model.predict(X_test)\n",
        "    train_error=np.sqrt(mean_squared_error(y_train,ytrain_predict))\n",
        "    test_error=np.sqrt(mean_squared_error(y_test,ytest_predict))\n",
        "    print(\"Training error (rmse):\", train_error)\n",
        "    print(\"Testing error (rmse):\", test_error)\n",
        "    plt.scatter(X_train[:,0], y_train, marker='o')\n",
        "    plt.scatter(X_test[:,0], y_test, marker='^')\n",
        "    draw_polynomial(coefs)\n",
        "    plt.show()\n",
        "    print(\"Polynomial coefficients\")\n",
        "    print(coefs)"
      ],
      "execution_count": 34,
      "outputs": []
    },
    {
      "cell_type": "markdown",
      "metadata": {
        "id": "G9x4Q5S3MA-I"
      },
      "source": [
        "## Training a polynomial regression model with no regularization"
      ]
    },
    {
      "cell_type": "code",
      "metadata": {
        "id": "QKm7sV7JMA-J"
      },
      "source": [
        "from sklearn.linear_model import LinearRegression\n",
        "## TODO ##\n",
        "# use sklearn linear regression to fit the data \n",
        "# normalization trick ;)\n",
        "\n",
        "model_no_reg = LinearRegression(normalize = True).fit(X_train, y_train)"
      ],
      "execution_count": 35,
      "outputs": []
    },
    {
      "cell_type": "code",
      "metadata": {
        "id": "uje8MamakgwD",
        "outputId": "88a6cbab-b494-4a8b-fc1f-56afcb3c6984",
        "colab": {
          "base_uri": "https://localhost:8080/",
          "height": 357
        }
      },
      "source": [
        "display_results(model_no_reg)"
      ],
      "execution_count": 36,
      "outputs": [
        {
          "output_type": "stream",
          "text": [
            "Training error (rmse): 0.5289017182411696\n",
            "Testing error (rmse): 274309.17335474933\n"
          ],
          "name": "stdout"
        },
        {
          "output_type": "display_data",
          "data": {
            "image/png": "[encoded data removed]",
            "text/plain": [
              "<Figure size 432x288 with 1 Axes>"
            ]
          },
          "metadata": {
            "tags": [],
            "needs_background": "light"
          }
        },
        {
          "output_type": "stream",
          "text": [
            "Polynomial coefficients\n",
            "[9.787269245461172, 28.20436343017233, 103.12510457338222, -480.8966638119644, -352.2808321519281, 2156.4859001531318, -54.89171250933041, -3485.9540940639918, 664.4571257277977, 2779.6172992254324, -576.6358163067331, -1247.619522085302, 221.55277669281483, 331.22356457216796, -44.195189244967466, -51.75006751282032, 4.312896192225952, 4.39173401251022, -0.07208045082162193, -0.13883010015228894, -0.023844971439986776, -0.004862794232089099, 0.0017964363408346316, 0.0003438500297058214, -6.381475846121705e-06, 2.484576039690745e-06, -2.4634363951561475e-06, -1.1226850227077022e-07, 3.75297682951351e-08, -1.0746246198414093e-08, -2.1376874581152662e-09, 7.894686626583576e-11, 1.211990184712324e-11, -2.7976166845204947e-12, 4.744988710252756e-12, -4.980564756721094e-13, 2.697677148997602e-13, 6.7025589780351305e-15, 3.537195918018022e-15, 5.431496640345278e-16, -3.2266352482419387e-16, 7.038233118000489e-17, -6.95552674718643e-18, -1.8137031721203478e-19, -4.003177120955998e-19, 2.0949311065605326e-20, -1.7712120275124404e-20, -5.738436577714528e-21, -7.330211482105043e-22, 1.6671456361181974e-23, 9.919619606847408e-24, 3.0138872282971312e-24, 3.8385455789337973e-25, -9.570764137649709e-27, -6.91846360296712e-28, 4.638859291703448e-27, 9.026238337521106e-28, -1.7105046396587306e-28, -3.473762831658164e-29, 7.387355870199742e-30, 2.2963587845324463e-30, 1.7682668230243906e-31, 1.6902044883852127e-31, -5.302805062306403e-33, -2.2752523090365032e-33, 7.634390182721097e-35, 5.002467229548338e-35, 2.7636104298084576e-35, 5.924665361870137e-37, -2.927215930958071e-37, 2.2149346584287714e-38, 1.901950011630961e-38, 4.28610596946092e-39, 2.7029285387799297e-40, 2.6573874502756907e-40, 4.047443032774398e-41, 1.069863252447259e-41, -6.224271262827805e-43, 4.246950952312946e-43, 1.4214393922654406e-44, 2.327115517656732e-44, -4.062533576145755e-46, 1.0056868312197302e-45, 8.867688922655215e-47, 2.0803964341978977e-47, -2.3400904775356494e-48, 1.1251629882730043e-48, -2.4197457195735625e-49, -4.091855424794813e-50, 1.1430534661426615e-50, 2.194437549978913e-51, 3.425737621580285e-52, 6.488106236076251e-53, 1.8526463518091756e-53, -4.4126338100484187e-54, 3.9337537416177236e-55, 3.907864172570883e-57, -5.214077730832925e-57, 1.2053901547880675e-57, 1.1733279027708808e-57, -1.3555431677157545e-58, -6.116904469937891e-59, -1.517403716625673e-60, -4.157379642565044e-61, 4.192670517537107e-61, 6.6964247795812195e-62, 8.396132284548315e-63, -1.813867343316988e-63, 3.379549710548945e-64, -9.221651214843548e-66, -1.098716075668273e-65, -4.638751683061349e-66, 1.3492179735285003e-67, -5.294915759092525e-68, 4.277638566635467e-68, 3.58965539501855e-69, -6.669360186671884e-70, 9.114482188759825e-71, -2.8350106017443233e-71, 1.2375212389918213e-71, -7.417893360507274e-73, -3.859562559903324e-73, 5.929155568767832e-75, -9.574582011342062e-75, 1.5147965422554904e-75, -3.3293175532685196e-76, 1.770169885769355e-76, 2.6815363630177894e-77, -9.430265372089292e-78, -3.0098861127706174e-79, -1.5416231009547582e-79, -1.3072914838260819e-81, 6.026603281089747e-82, -1.9353632064764206e-81, 1.891262353327089e-82, 9.94368372553738e-83, -1.584007495186971e-83, -1.2108652908990493e-87, 2.4468852827964535e-85, 5.4060218592903356e-86, -1.3626364320114787e-86, -2.163872906316158e-87, -9.696710115368385e-88, -1.7333612086645518e-88, -2.0141369878156158e-89, 7.265288524143157e-90, 8.22404420183089e-91, 1.0175924388169053e-91, 1.6897656729768096e-92, -7.996638313860942e-94, -8.115084481447799e-94, -9.09470169046805e-94, -1.9745589387933613e-94, 1.0649042154456527e-95, 6.522815350214933e-97, -6.680961670554018e-97, 2.248641470031645e-100, 3.487175545440055e-98, -1.5449469075987704e-99, -5.585913004673413e-100, -5.424851836795136e-100, -5.248002028978322e-101, -8.581831968584274e-102, 8.326913952451697e-103, -2.3952501945603763e-103, 2.840466931590885e-104, 1.9832093166273218e-105, 4.143834303913134e-105, -2.4195058960518436e-107, -4.318746894954044e-108, 3.22424816211735e-107, 1.44083094542344e-108, 7.491626628323191e-109, -4.511539457286788e-110, -4.7271910693022365e-110, -2.569710999725053e-111, -2.6642588898969494e-112, -1.1318486549604065e-112, 5.387256757007819e-113, -1.1437872754761677e-113, -3.061102098378178e-114, 5.120438515704007e-115, 9.161324741233034e-116, -4.6563225405465487e-116, 2.450793829261309e-117, -6.02421680825672e-118, -4.966764889346929e-119, -8.235822092099998e-120, -8.047629756599683e-120, -1.307427073038973e-120, -7.694837287192179e-122, -2.509746832062237e-123, 1.1989745068434297e-123, 1.5795841863216785e-123, -1.0621216419546453e-124, 1.8524790271477054e-125, -9.182897852876556e-126, 2.2948163826039865e-126, 1.630524016380875e-129, -7.129162157399119e-128, 2.44561622968589e-128]\n"
          ],
          "name": "stdout"
        }
      ]
    },
    {
      "cell_type": "markdown",
      "metadata": {
        "id": "TLTU-3ojMA-J"
      },
      "source": [
        "## Training a polynomial regression model with L1 regularization"
      ]
    },
    {
      "cell_type": "code",
      "metadata": {
        "id": "sBfyPNvMMA-J"
      },
      "source": [
        "from sklearn import linear_model\n",
        "## TODO ##\n",
        "# use sklearn Lasso (linear regression with L1 Norm) to fit the data \n",
        "# normalization trick ;)\n",
        "model_L1_reg =  linear_model.Lasso(alpha=0.1,normalize = True).fit(X_train, y_train)\n",
        "\n",
        "\n",
        "\n",
        "\n"
      ],
      "execution_count": 38,
      "outputs": []
    },
    {
      "cell_type": "code",
      "metadata": {
        "id": "LOYlQsU5MA-K",
        "outputId": "5bcd3fdf-ed8b-467a-c1c4-ce2d420397b0",
        "colab": {
          "base_uri": "https://localhost:8080/",
          "height": 357
        }
      },
      "source": [
        "display_results(model_L1_reg)"
      ],
      "execution_count": 39,
      "outputs": [
        {
          "output_type": "stream",
          "text": [
            "Training error (rmse): 2.142932276526434\n",
            "Testing error (rmse): 1.7805438721248126\n"
          ],
          "name": "stdout"
        },
        {
          "output_type": "display_data",
          "data": {
            "image/png": "[encoded data removed]",
            "text/plain": [
              "<Figure size 432x288 with 1 Axes>"
            ]
          },
          "metadata": {
            "tags": [],
            "needs_background": "light"
          }
        },
        {
          "output_type": "stream",
          "text": [
            "Polynomial coefficients\n",
            "[13.578039674142527, 0.0, -0.8758959569394635, 0.06947578080898663, -0.0, 0.0, -0.0, 0.0, -0.0, 0.0, -0.0, 0.0, -0.0, 0.0, -0.0, 0.0, -0.0, 0.0, -0.0, 0.0, -0.0, 0.0, -0.0, 0.0, -0.0, 0.0, -0.0, 0.0, -0.0, 0.0, -0.0, 0.0, -0.0, 0.0, -0.0, 0.0, -0.0, 0.0, -0.0, 0.0, -0.0, 0.0, -0.0, 0.0, -0.0, 0.0, -0.0, 0.0, -0.0, 0.0, -0.0, 0.0, -0.0, 0.0, -0.0, 0.0, -0.0, 0.0, -0.0, 0.0, -0.0, 0.0, -0.0, 0.0, -0.0, 0.0, -0.0, 0.0, -0.0, 0.0, -0.0, 0.0, -0.0, 0.0, -0.0, 0.0, -0.0, 0.0, -0.0, 0.0, -0.0, 0.0, -0.0, 0.0, -0.0, 0.0, -0.0, 0.0, -0.0, 0.0, -0.0, 0.0, -0.0, 0.0, -0.0, 0.0, -0.0, 0.0, -0.0, 0.0, -0.0, 0.0, -0.0, 0.0, -0.0, 0.0, -0.0, 0.0, -0.0, 0.0, -0.0, 0.0, -0.0, 0.0, -0.0, 0.0, -0.0, 0.0, -0.0, 0.0, -0.0, 0.0, -0.0, 0.0, -0.0, 0.0, -0.0, 0.0, -0.0, 0.0, -0.0, 0.0, -0.0, 0.0, -0.0, 0.0, -0.0, 0.0, -0.0, 0.0, -0.0, 0.0, -0.0, 0.0, -0.0, 0.0, -0.0, 0.0, -0.0, 0.0, -0.0, 0.0, -0.0, 0.0, -0.0, 0.0, -0.0, 0.0, -0.0, 0.0, -0.0, 0.0, -0.0, 0.0, -0.0, 0.0, -0.0, 0.0, -0.0, 0.0, -0.0, 0.0, -0.0, 0.0, -0.0, 0.0, -0.0, 0.0, -0.0, 0.0, -0.0, 0.0, -0.0, 0.0, -0.0, 0.0, -0.0, 0.0, -0.0, 0.0, -0.0, 0.0, -0.0, 0.0, -0.0, 0.0, -0.0, 0.0, -0.0, 0.0, -0.0]\n"
          ],
          "name": "stdout"
        }
      ]
    },
    {
      "cell_type": "markdown",
      "metadata": {
        "id": "21v4zgmbMA-K"
      },
      "source": [
        "## Training a polynomial regression model with L2 regularization"
      ]
    },
    {
      "cell_type": "code",
      "metadata": {
        "id": "MrSeiPXPMA-K"
      },
      "source": [
        "from sklearn import linear_model\n",
        "## TODO ##\n",
        "# use sklearn Ridge (linear regression with L2 Norm) to fit the data \n",
        "# normalization trick ;)\n",
        "\n",
        "model_L2_reg = linear_model.Ridge(alpha=0.1 , normalize= True).fit(X_train, y_train)"
      ],
      "execution_count": 40,
      "outputs": []
    },
    {
      "cell_type": "code",
      "metadata": {
        "id": "TyLoFFM_MA-L",
        "outputId": "9421599d-2ffe-4de0-a8e5-638ddeb9d539",
        "colab": {
          "base_uri": "https://localhost:8080/",
          "height": 357
        }
      },
      "source": [
        "display_results(model_L2_reg)"
      ],
      "execution_count": 41,
      "outputs": [
        {
          "output_type": "stream",
          "text": [
            "Training error (rmse): 2.135011231186259\n",
            "Testing error (rmse): 1.9601754162665233\n"
          ],
          "name": "stdout"
        },
        {
          "output_type": "display_data",
          "data": {
            "image/png": "[encoded data removed]",
            "text/plain": [
              "<Figure size 432x288 with 1 Axes>"
            ]
          },
          "metadata": {
            "tags": [],
            "needs_background": "light"
          }
        },
        {
          "output_type": "stream",
          "text": [
            "Polynomial coefficients\n",
            "[13.028703349323365, 0.389733835796335, -0.5481651208668871, 0.018176770117264738, -0.013585685252324583, 0.0009044275025723186, -0.0002741417161859971, 3.7087090646781096e-05, -4.2120164076747934e-06, 1.2540352598929382e-06, -2.1789226381763725e-08, 3.634402169018382e-08, 2.001299756194437e-09, 9.107926103672092e-10, 1.3057235620625217e-10, 1.8562126719031967e-11, 5.951453516375038e-12, 2.0752227069955785e-13, 2.426047576455545e-13, -6.78575420161355e-15, 9.447180129434063e-15, -6.777005177980196e-16, 3.60640798173081e-16, -3.755365243040651e-17, 1.3654804590972004e-17, -1.7548192755065778e-18, 5.155721832274395e-19, -7.570216720485256e-20, 1.9459072967435207e-20, -3.1224377644831826e-21, 7.347734759618133e-22, -1.2526098880939863e-22, 2.7760270770733006e-23, -4.933854882394259e-24, 1.049111289072388e-24, -1.9189356244793667e-25, 3.9644079053418644e-26, -7.39561062124642e-27, 1.4973221073511247e-27, -2.8308448904181443e-28, 5.650213875057804e-29, -1.0777854056043203e-29, 2.129504927956572e-30, -4.085498674681238e-31, 8.013581794176853e-32, -1.5428601313678062e-32, 3.0101936962510126e-33, -5.806906698560837e-34, 1.1284384185219257e-34, -2.1786804200591996e-35, 4.2206365429415124e-36, -8.149116954552159e-37, 1.5746915784285221e-37, -3.0387151673148773e-38, 5.8590312412818e-39, -1.129506875388033e-39, 2.173468588340483e-40, -4.1843717791626207e-41, 8.036115833691725e-42, -1.5445549055763122e-42, 2.960393613205068e-43, -5.678856013205448e-44, 1.0861202407352479e-44, -2.0788040045564523e-45, 3.9664883787993085e-46, -7.572187601835341e-47, 1.4409740852501894e-47, -2.7427116754528924e-48, 5.203307864372942e-49, -9.869655628338966e-50, 1.8656617453766138e-50, -3.524406858062965e-51, 6.633481250670094e-52, -1.2470220216956349e-52, 2.334765666755022e-53, -4.362960291513759e-54, 8.1152194598075e-55, -1.5051568673051631e-55, 2.7761931040484864e-56, -5.099324511338224e-57, 9.301199187485833e-58, -1.686203100863057e-58, 3.028408182785365e-59, -5.388546871118967e-60, 9.458564289778402e-61, -1.6351921496731465e-61, 2.7649984791603715e-62, -4.5455691265991843e-63, 7.153976783188577e-64, -1.053080548975581e-64, 1.3636074408287393e-65, -1.2781484203414524e-66, -2.9025119024036857e-68, 6.1392874126933176e-68, -2.319164858513288e-68, 6.770685516456664e-69, -1.772566995700203e-69, 4.363121485636185e-70, -1.033079722161681e-70, 2.3799631804711978e-71, -5.375317393554275e-72, 1.1954588385304687e-72, -2.6269773741198406e-73, 5.715927122062999e-74, -1.2337535145525062e-74, 2.6447994487428745e-75, -5.637150978795129e-76, 1.1954827681850674e-76, -2.5243681706946283e-77, 5.310006986746284e-78, -1.1132187492119214e-78, 2.326769422659435e-79, -4.850230654007235e-80, 1.0085851152110602e-80, -2.0927281461517387e-81, 4.3335319323191014e-82, -8.957403398291062e-83, 1.8483919633466612e-83, -3.8083861199698152e-84, 7.835575282343766e-85, -1.6100279054032717e-85, 3.304206371906811e-86, -6.773478742019694e-87, 1.3870713278667761e-87, -2.837659809744022e-88, 5.799926751641445e-89, -1.18443625513218e-89, 2.416850361224779e-90, -4.927862920162817e-91, 1.0040532980940823e-91, -2.0443845784900025e-92, 4.159986229517133e-93, -8.459802851641993e-94, 1.7194170010989692e-94, -3.492755116119934e-95, 7.091412595942322e-96, -1.4390853171793768e-96, 2.919037911175073e-97, -5.918372380889865e-98, 1.1994528020826057e-98, -2.429914830303353e-99, 4.920778840388059e-100, -9.961372387312562e-101, 2.015830551297193e-101, -4.0779802723414474e-102, 8.247050869271539e-103, -1.6673264978758853e-103, 3.3698967295350006e-104, -6.8091329166046865e-105, 1.3754704578207953e-105, -2.777791951874385e-106, 5.60843393795637e-107, -1.1320906887914662e-107, 2.2846651512690232e-108, -4.609666150968575e-109, 9.298771883999592e-110, -1.8754020939755017e-110, 3.781631176957243e-111, -7.6240031301838125e-112, 1.5367707061266317e-112, -3.09713444181076e-113, 6.240778110860218e-114, -1.2573255365123957e-114, 2.5327336919904106e-115, -5.101131289093982e-116, 1.0272613108800827e-116, -2.0684022582091855e-117, 4.1641925357005715e-118, -8.382437604174853e-119, 1.6871570212387046e-119, -3.3953782729034114e-120, 6.8323495606360905e-121, -1.3746841862563966e-121, 2.765593639217841e-122, -5.5632417712518485e-123, 1.1189820951956922e-123, -2.250481368539735e-124, 4.525704306444085e-125, -9.100321471819219e-126, 1.829735792875337e-126, -3.678598267547381e-127, 7.395028643846053e-128, -1.4864901230470834e-128, 2.987789318244089e-129, -6.00488582667392e-130, 1.2067780672409576e-130, -2.4250400993200384e-131, 4.87281876137146e-132, -9.790668244832737e-133, 1.967052919785956e-133, -3.951775336629459e-134, 7.938560759282179e-135, -1.5946501810148718e-135, 3.203051946211048e-136, -6.43336495350969e-137, 1.2920781172716472e-137, -2.594874925790205e-138, 5.2110092058701446e-139, -1.0464191017613518e-139, 2.1012054480023046e-140, -4.219014628657248e-141]\n"
          ],
          "name": "stdout"
        }
      ]
    },
    {
      "cell_type": "markdown",
      "metadata": {
        "id": "1EsLoBMqMA-L"
      },
      "source": [
        "## Viewing the predictions in the testing set"
      ]
    },
    {
      "cell_type": "code",
      "metadata": {
        "id": "TPp6zYZ6MA-L",
        "outputId": "195ef0f3-371f-4be6-ac78-0e4e73e4223b",
        "colab": {
          "base_uri": "https://localhost:8080/",
          "height": 297
        }
      },
      "source": [
        "import pandas as pd\n",
        "from IPython.display import display\n",
        "predictions={}\n",
        "predictions ['x']=X_test[:,0]\n",
        "predictions ['y']=y_test\n",
        "predictions['No reg'] = model_no_reg.predict(X_test)\n",
        "predictions['L1 reg'] = model_L1_reg.predict(X_test)\n",
        "predictions['L2 reg'] = model_L2_reg.predict(X_test)\n",
        "predictions=pd.DataFrame.from_dict(predictions)\n",
        "display(predictions)"
      ],
      "execution_count": 42,
      "outputs": [
        {
          "output_type": "display_data",
          "data": {
            "text/html": [
              "<div>\n",
              "<style scoped>\n",
              "    .dataframe tbody tr th:only-of-type {\n",
              "        vertical-align: middle;\n",
              "    }\n",
              "\n",
              "    .dataframe tbody tr th {\n",
              "        vertical-align: top;\n",
              "    }\n",
              "\n",
              "    .dataframe thead th {\n",
              "        text-align: right;\n",
              "    }\n",
              "</style>\n",
              "<table border=\"1\" class=\"dataframe\">\n",
              "  <thead>\n",
              "    <tr style=\"text-align: right;\">\n",
              "      <th></th>\n",
              "      <th>x</th>\n",
              "      <th>y</th>\n",
              "      <th>No reg</th>\n",
              "      <th>L1 reg</th>\n",
              "      <th>L2 reg</th>\n",
              "    </tr>\n",
              "  </thead>\n",
              "  <tbody>\n",
              "    <tr>\n",
              "      <th>0</th>\n",
              "      <td>-2.395077</td>\n",
              "      <td>7.723543</td>\n",
              "      <td>-41.734927</td>\n",
              "      <td>7.599021</td>\n",
              "      <td>8.105719</td>\n",
              "    </tr>\n",
              "    <tr>\n",
              "      <th>1</th>\n",
              "      <td>4.021660</td>\n",
              "      <td>2.454299</td>\n",
              "      <td>-566015.088018</td>\n",
              "      <td>3.930594</td>\n",
              "      <td>4.201617</td>\n",
              "    </tr>\n",
              "    <tr>\n",
              "      <th>2</th>\n",
              "      <td>-1.898524</td>\n",
              "      <td>8.956020</td>\n",
              "      <td>-5.061357</td>\n",
              "      <td>9.945540</td>\n",
              "      <td>9.972487</td>\n",
              "    </tr>\n",
              "    <tr>\n",
              "      <th>3</th>\n",
              "      <td>1.031856</td>\n",
              "      <td>13.676624</td>\n",
              "      <td>8.521603</td>\n",
              "      <td>12.721779</td>\n",
              "      <td>12.852544</td>\n",
              "    </tr>\n",
              "    <tr>\n",
              "      <th>4</th>\n",
              "      <td>-2.410832</td>\n",
              "      <td>4.690236</td>\n",
              "      <td>-35.562163</td>\n",
              "      <td>7.513736</td>\n",
              "      <td>8.035500</td>\n",
              "    </tr>\n",
              "    <tr>\n",
              "      <th>5</th>\n",
              "      <td>1.108870</td>\n",
              "      <td>16.141450</td>\n",
              "      <td>11.762885</td>\n",
              "      <td>12.595772</td>\n",
              "      <td>12.792168</td>\n",
              "    </tr>\n",
              "    <tr>\n",
              "      <th>6</th>\n",
              "      <td>-3.132705</td>\n",
              "      <td>3.308124</td>\n",
              "      <td>530645.565599</td>\n",
              "      <td>2.846184</td>\n",
              "      <td>3.831942</td>\n",
              "    </tr>\n",
              "    <tr>\n",
              "      <th>7</th>\n",
              "      <td>2.197047</td>\n",
              "      <td>9.366124</td>\n",
              "      <td>2676.340927</td>\n",
              "      <td>10.086880</td>\n",
              "      <td>11.139241</td>\n",
              "    </tr>\n",
              "  </tbody>\n",
              "</table>\n",
              "</div>"
            ],
            "text/plain": [
              "          x          y         No reg     L1 reg     L2 reg\n",
              "0 -2.395077   7.723543     -41.734927   7.599021   8.105719\n",
              "1  4.021660   2.454299 -566015.088018   3.930594   4.201617\n",
              "2 -1.898524   8.956020      -5.061357   9.945540   9.972487\n",
              "3  1.031856  13.676624       8.521603  12.721779  12.852544\n",
              "4 -2.410832   4.690236     -35.562163   7.513736   8.035500\n",
              "5  1.108870  16.141450      11.762885  12.595772  12.792168\n",
              "6 -3.132705   3.308124  530645.565599   2.846184   3.831942\n",
              "7  2.197047   9.366124    2676.340927  10.086880  11.139241"
            ]
          },
          "metadata": {
            "tags": []
          }
        }
      ]
    },
    {
      "cell_type": "code",
      "metadata": {
        "id": "P4wLElcP-pCP"
      },
      "source": [
        ""
      ],
      "execution_count": null,
      "outputs": []
    }
  ]
}